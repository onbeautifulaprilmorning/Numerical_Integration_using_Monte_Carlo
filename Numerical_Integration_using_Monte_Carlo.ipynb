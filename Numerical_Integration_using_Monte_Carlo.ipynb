{
  "nbformat": 4,
  "nbformat_minor": 0,
  "metadata": {
    "colab": {
      "name": "HW#2 Numerical Integration using Monte-Carlo",
      "version": "0.3.2",
      "provenance": []
    },
    "kernelspec": {
      "name": "python3",
      "display_name": "Python 3"
    }
  },
  "cells": [
    {
      "metadata": {
        "id": "4qZhzOQN93jm",
        "colab_type": "code",
        "colab": {
          "base_uri": "https://localhost:8080/",
          "height": 52
        },
        "outputId": "e7292f22-bf0d-4787-d91b-e2be0735415c"
      },
      "cell_type": "code",
      "source": [
        "import numpy as np\n",
        "\n",
        "def formula(x):\n",
        "  f = 1 / np.sqrt(2 * 3.1415) * np.exp((-x ** 2) / 2)\n",
        "  return f\n",
        "\n",
        "trial = 1000000\n",
        "z = 0\n",
        "for i in range(trial):\n",
        "  x_test = np.random.random() * 10 + 1.96\n",
        "  y_test = np.random.random() * 10\n",
        "  if 0 < y_test <= formula(x_test):\n",
        "    z = z + 1\n",
        "\n",
        "answer = z / trial\n",
        "print(z)\n",
        "print(answer)\n"
      ],
      "execution_count": 47,
      "outputs": [
        {
          "output_type": "stream",
          "text": [
            "242\n",
            "0.000242\n"
          ],
          "name": "stdout"
        }
      ]
    },
    {
      "metadata": {
        "id": "ZcRS4Gzw6SI4",
        "colab_type": "code",
        "colab": {}
      },
      "cell_type": "code",
      "source": [
        ""
      ],
      "execution_count": 0,
      "outputs": []
    }
  ]
}